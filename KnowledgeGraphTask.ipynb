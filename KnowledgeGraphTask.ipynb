{
  "nbformat": 4,
  "nbformat_minor": 0,
  "metadata": {
    "colab": {
      "name": "KnowledgeGraphTask.ipynb",
      "provenance": [],
      "collapsed_sections": [],
      "authorship_tag": "ABX9TyMYN9tKMrWuIyuT4a93lqGI",
      "include_colab_link": true
    },
    "kernelspec": {
      "name": "python3",
      "display_name": "Python 3"
    },
    "language_info": {
      "name": "python"
    }
  },
  "cells": [
    {
      "cell_type": "markdown",
      "metadata": {
        "id": "view-in-github",
        "colab_type": "text"
      },
      "source": [
        "<a href=\"https://colab.research.google.com/github/Supriya090/Knowledge-Graph-Task/blob/master/KnowledgeGraphTask.ipynb\" target=\"_parent\"><img src=\"https://colab.research.google.com/assets/colab-badge.svg\" alt=\"Open In Colab\"/></a>"
      ]
    },
    {
      "cell_type": "markdown",
      "source": [
        "## Web Scraping using Beautiful Soup\n",
        "\n",
        "\n"
      ],
      "metadata": {
        "id": "P8N1DubTkd7d"
      }
    },
    {
      "cell_type": "code",
      "execution_count": 43,
      "metadata": {
        "id": "EuzPynAijwFh"
      },
      "outputs": [],
      "source": [
        "# importing the necessary libaries\n",
        "import requests\n",
        "from bs4 import BeautifulSoup\n",
        "import csv\n",
        "import pandas as pd\n",
        "import matplotlib.pyplot as plt"
      ]
    },
    {
      "cell_type": "code",
      "source": [
        "# preparing the csv file\n",
        "news_data_csv = open('news_data.csv', 'w')\n",
        "fieldnames = ['TITLE', 'CONTENT']\n",
        "writer = csv.DictWriter(news_data_csv, fieldnames=fieldnames)\n",
        "writer.writeheader()"
      ],
      "metadata": {
        "id": "QNaz7y5Uw-GH"
      },
      "execution_count": 3,
      "outputs": []
    },
    {
      "cell_type": "code",
      "source": [
        "# getting the headings and content of article\n",
        "def get_content(url):\n",
        "  page = requests.get(url)\n",
        "  page_soup = BeautifulSoup(page.content, 'html.parser')     # parsing code in HTML\n",
        "\n",
        "  #finding the heading\n",
        "  news_title = page_soup.find_all('h1')\n",
        "  print(news_title[0].get_text())\n",
        "\n",
        "  #finding the content\n",
        "  article_text=''\n",
        "  news_content = page_soup.find('div', class_=\"post-content-wrap\").findAll('p')   #getting only the content of <p> tag\n",
        "  for element in news_content:\n",
        "    article_text += '\\n' + ''.join(element.findAll(text = True))\n",
        "  print(article_text)\n",
        "\n",
        "  #writing the title and content to CSV\n",
        "  writer.writerow({'TITLE':news_title[0].get_text(), 'CONTENT':article_text})"
      ],
      "metadata": {
        "id": "MMtoqMS_k5g7"
      },
      "execution_count": 4,
      "outputs": []
    },
    {
      "cell_type": "code",
      "source": [
        "# getting the headings of article\n",
        "def get_links(url):\n",
        "  page = requests.get(url)\n",
        "  page_soup = BeautifulSoup(page.content, 'html.parser')     # parsing code in HTML\n",
        "  news_headings = page_soup.find('div',class_=\"listical-news-big\").find_all('h2')\n",
        "  link_with_href = []\n",
        "  link_list = []\n",
        "  for heads in news_headings:\n",
        "    link_with_href.append(heads.find('a', href=True))\n",
        "    # print(link_with_href['href'])\n",
        "  #   link_with_href.append()\n",
        "  for i in range(20):\n",
        "    link_list.append(link_with_href[i]['href'])\n",
        "  return link_list"
      ],
      "metadata": {
        "id": "KzQSO83c_LxD"
      },
      "execution_count": 5,
      "outputs": []
    },
    {
      "cell_type": "code",
      "source": [
        "links = get_links(\"https://english.onlinekhabar.com/category/business\")\n",
        "for i in range(20):\n",
        "  get_content(links[i])\n",
        "\n",
        "news_data_csv.close()\n",
        "print(\"CSV has been generated\")"
      ],
      "metadata": {
        "id": "tj9DhX8hllU2"
      },
      "execution_count": null,
      "outputs": []
    },
    {
      "cell_type": "code",
      "source": [
        "#reading the generated csv file\n",
        "news_info = pd.read_csv('/content/news_data.csv')\n",
        "news_info.head()"
      ],
      "metadata": {
        "colab": {
          "base_uri": "https://localhost:8080/",
          "height": 206
        },
        "id": "F75V7_feIvSu",
        "outputId": "7f61eaf1-081a-45c0-d98a-078e659ce4b3"
      },
      "execution_count": 7,
      "outputs": [
        {
          "output_type": "execute_result",
          "data": {
            "text/plain": [
              "                                               TITLE  \\\n",
              "0  \\nGovt collects Rs 92.78 billion in fuel taxes...   \n",
              "1  \\n2nd fuel price hike in 8 days: Petrol Rs 180...   \n",
              "2  \\nGovt reducing airport infrastructure budget ...   \n",
              "3  \\nNepal imported gold worth Rs 35.77 billion i...   \n",
              "4  \\nFood delivery services are booming in Kathma...   \n",
              "\n",
              "                                             CONTENT  \n",
              "0  \\nKathmandu, May 24\\nAs the fuel prices keep o...  \n",
              "1  \\nKathmandu, May 23\\nThe government-run fuel d...  \n",
              "2  \\nKathmandu, May 22\\nThe governing is reducing...  \n",
              "3  \\nKathmandu, May 22\\nWhile there are reports t...  \n",
              "4  \\nA couple of weeks back, Bintika Kafle of Kat...  "
            ],
            "text/html": [
              "\n",
              "  <div id=\"df-b896145e-9cd8-4f74-8bb6-b0dbaa21f0ac\">\n",
              "    <div class=\"colab-df-container\">\n",
              "      <div>\n",
              "<style scoped>\n",
              "    .dataframe tbody tr th:only-of-type {\n",
              "        vertical-align: middle;\n",
              "    }\n",
              "\n",
              "    .dataframe tbody tr th {\n",
              "        vertical-align: top;\n",
              "    }\n",
              "\n",
              "    .dataframe thead th {\n",
              "        text-align: right;\n",
              "    }\n",
              "</style>\n",
              "<table border=\"1\" class=\"dataframe\">\n",
              "  <thead>\n",
              "    <tr style=\"text-align: right;\">\n",
              "      <th></th>\n",
              "      <th>TITLE</th>\n",
              "      <th>CONTENT</th>\n",
              "    </tr>\n",
              "  </thead>\n",
              "  <tbody>\n",
              "    <tr>\n",
              "      <th>0</th>\n",
              "      <td>\\nGovt collects Rs 92.78 billion in fuel taxes...</td>\n",
              "      <td>\\nKathmandu, May 24\\nAs the fuel prices keep o...</td>\n",
              "    </tr>\n",
              "    <tr>\n",
              "      <th>1</th>\n",
              "      <td>\\n2nd fuel price hike in 8 days: Petrol Rs 180...</td>\n",
              "      <td>\\nKathmandu, May 23\\nThe government-run fuel d...</td>\n",
              "    </tr>\n",
              "    <tr>\n",
              "      <th>2</th>\n",
              "      <td>\\nGovt reducing airport infrastructure budget ...</td>\n",
              "      <td>\\nKathmandu, May 22\\nThe governing is reducing...</td>\n",
              "    </tr>\n",
              "    <tr>\n",
              "      <th>3</th>\n",
              "      <td>\\nNepal imported gold worth Rs 35.77 billion i...</td>\n",
              "      <td>\\nKathmandu, May 22\\nWhile there are reports t...</td>\n",
              "    </tr>\n",
              "    <tr>\n",
              "      <th>4</th>\n",
              "      <td>\\nFood delivery services are booming in Kathma...</td>\n",
              "      <td>\\nA couple of weeks back, Bintika Kafle of Kat...</td>\n",
              "    </tr>\n",
              "  </tbody>\n",
              "</table>\n",
              "</div>\n",
              "      <button class=\"colab-df-convert\" onclick=\"convertToInteractive('df-b896145e-9cd8-4f74-8bb6-b0dbaa21f0ac')\"\n",
              "              title=\"Convert this dataframe to an interactive table.\"\n",
              "              style=\"display:none;\">\n",
              "        \n",
              "  <svg xmlns=\"http://www.w3.org/2000/svg\" height=\"24px\"viewBox=\"0 0 24 24\"\n",
              "       width=\"24px\">\n",
              "    <path d=\"M0 0h24v24H0V0z\" fill=\"none\"/>\n",
              "    <path d=\"M18.56 5.44l.94 2.06.94-2.06 2.06-.94-2.06-.94-.94-2.06-.94 2.06-2.06.94zm-11 1L8.5 8.5l.94-2.06 2.06-.94-2.06-.94L8.5 2.5l-.94 2.06-2.06.94zm10 10l.94 2.06.94-2.06 2.06-.94-2.06-.94-.94-2.06-.94 2.06-2.06.94z\"/><path d=\"M17.41 7.96l-1.37-1.37c-.4-.4-.92-.59-1.43-.59-.52 0-1.04.2-1.43.59L10.3 9.45l-7.72 7.72c-.78.78-.78 2.05 0 2.83L4 21.41c.39.39.9.59 1.41.59.51 0 1.02-.2 1.41-.59l7.78-7.78 2.81-2.81c.8-.78.8-2.07 0-2.86zM5.41 20L4 18.59l7.72-7.72 1.47 1.35L5.41 20z\"/>\n",
              "  </svg>\n",
              "      </button>\n",
              "      \n",
              "  <style>\n",
              "    .colab-df-container {\n",
              "      display:flex;\n",
              "      flex-wrap:wrap;\n",
              "      gap: 12px;\n",
              "    }\n",
              "\n",
              "    .colab-df-convert {\n",
              "      background-color: #E8F0FE;\n",
              "      border: none;\n",
              "      border-radius: 50%;\n",
              "      cursor: pointer;\n",
              "      display: none;\n",
              "      fill: #1967D2;\n",
              "      height: 32px;\n",
              "      padding: 0 0 0 0;\n",
              "      width: 32px;\n",
              "    }\n",
              "\n",
              "    .colab-df-convert:hover {\n",
              "      background-color: #E2EBFA;\n",
              "      box-shadow: 0px 1px 2px rgba(60, 64, 67, 0.3), 0px 1px 3px 1px rgba(60, 64, 67, 0.15);\n",
              "      fill: #174EA6;\n",
              "    }\n",
              "\n",
              "    [theme=dark] .colab-df-convert {\n",
              "      background-color: #3B4455;\n",
              "      fill: #D2E3FC;\n",
              "    }\n",
              "\n",
              "    [theme=dark] .colab-df-convert:hover {\n",
              "      background-color: #434B5C;\n",
              "      box-shadow: 0px 1px 3px 1px rgba(0, 0, 0, 0.15);\n",
              "      filter: drop-shadow(0px 1px 2px rgba(0, 0, 0, 0.3));\n",
              "      fill: #FFFFFF;\n",
              "    }\n",
              "  </style>\n",
              "\n",
              "      <script>\n",
              "        const buttonEl =\n",
              "          document.querySelector('#df-b896145e-9cd8-4f74-8bb6-b0dbaa21f0ac button.colab-df-convert');\n",
              "        buttonEl.style.display =\n",
              "          google.colab.kernel.accessAllowed ? 'block' : 'none';\n",
              "\n",
              "        async function convertToInteractive(key) {\n",
              "          const element = document.querySelector('#df-b896145e-9cd8-4f74-8bb6-b0dbaa21f0ac');\n",
              "          const dataTable =\n",
              "            await google.colab.kernel.invokeFunction('convertToInteractive',\n",
              "                                                     [key], {});\n",
              "          if (!dataTable) return;\n",
              "\n",
              "          const docLinkHtml = 'Like what you see? Visit the ' +\n",
              "            '<a target=\"_blank\" href=https://colab.research.google.com/notebooks/data_table.ipynb>data table notebook</a>'\n",
              "            + ' to learn more about interactive tables.';\n",
              "          element.innerHTML = '';\n",
              "          dataTable['output_type'] = 'display_data';\n",
              "          await google.colab.output.renderOutput(dataTable, element);\n",
              "          const docLink = document.createElement('div');\n",
              "          docLink.innerHTML = docLinkHtml;\n",
              "          element.appendChild(docLink);\n",
              "        }\n",
              "      </script>\n",
              "    </div>\n",
              "  </div>\n",
              "  "
            ]
          },
          "metadata": {},
          "execution_count": 7
        }
      ]
    },
    {
      "cell_type": "code",
      "source": [
        "#replacing the newline as blank space\n",
        "news_info = news_info.replace(r'\\n',' ', regex=True) \n",
        "#changing content column to lowercase\n",
        "news_info['CONTENT'] = news_info['CONTENT'].str.lower()\n",
        "#removing commas from content column\n",
        "news_info['CONTENT'] = news_info['CONTENT'].str.replace(',','')\n",
        "news_info.head()"
      ],
      "metadata": {
        "colab": {
          "base_uri": "https://localhost:8080/",
          "height": 206
        },
        "id": "tLNqjOe-I7ux",
        "outputId": "ee74e787-9bf8-439e-c048-89a66528b999"
      },
      "execution_count": 8,
      "outputs": [
        {
          "output_type": "execute_result",
          "data": {
            "text/plain": [
              "                                               TITLE  \\\n",
              "0   Govt collects Rs 92.78 billion in fuel taxes ...   \n",
              "1   2nd fuel price hike in 8 days: Petrol Rs 180,...   \n",
              "2   Govt reducing airport infrastructure budget t...   \n",
              "3   Nepal imported gold worth Rs 35.77 billion in...   \n",
              "4   Food delivery services are booming in Kathman...   \n",
              "\n",
              "                                             CONTENT  \n",
              "0   kathmandu may 24 as the fuel prices keep on i...  \n",
              "1   kathmandu may 23 the government-run fuel dist...  \n",
              "2   kathmandu may 22 the governing is reducing it...  \n",
              "3   kathmandu may 22 while there are reports that...  \n",
              "4   a couple of weeks back bintika kafle of kathm...  "
            ],
            "text/html": [
              "\n",
              "  <div id=\"df-12cc08e2-9014-426d-baa5-853308dbd7da\">\n",
              "    <div class=\"colab-df-container\">\n",
              "      <div>\n",
              "<style scoped>\n",
              "    .dataframe tbody tr th:only-of-type {\n",
              "        vertical-align: middle;\n",
              "    }\n",
              "\n",
              "    .dataframe tbody tr th {\n",
              "        vertical-align: top;\n",
              "    }\n",
              "\n",
              "    .dataframe thead th {\n",
              "        text-align: right;\n",
              "    }\n",
              "</style>\n",
              "<table border=\"1\" class=\"dataframe\">\n",
              "  <thead>\n",
              "    <tr style=\"text-align: right;\">\n",
              "      <th></th>\n",
              "      <th>TITLE</th>\n",
              "      <th>CONTENT</th>\n",
              "    </tr>\n",
              "  </thead>\n",
              "  <tbody>\n",
              "    <tr>\n",
              "      <th>0</th>\n",
              "      <td>Govt collects Rs 92.78 billion in fuel taxes ...</td>\n",
              "      <td>kathmandu may 24 as the fuel prices keep on i...</td>\n",
              "    </tr>\n",
              "    <tr>\n",
              "      <th>1</th>\n",
              "      <td>2nd fuel price hike in 8 days: Petrol Rs 180,...</td>\n",
              "      <td>kathmandu may 23 the government-run fuel dist...</td>\n",
              "    </tr>\n",
              "    <tr>\n",
              "      <th>2</th>\n",
              "      <td>Govt reducing airport infrastructure budget t...</td>\n",
              "      <td>kathmandu may 22 the governing is reducing it...</td>\n",
              "    </tr>\n",
              "    <tr>\n",
              "      <th>3</th>\n",
              "      <td>Nepal imported gold worth Rs 35.77 billion in...</td>\n",
              "      <td>kathmandu may 22 while there are reports that...</td>\n",
              "    </tr>\n",
              "    <tr>\n",
              "      <th>4</th>\n",
              "      <td>Food delivery services are booming in Kathman...</td>\n",
              "      <td>a couple of weeks back bintika kafle of kathm...</td>\n",
              "    </tr>\n",
              "  </tbody>\n",
              "</table>\n",
              "</div>\n",
              "      <button class=\"colab-df-convert\" onclick=\"convertToInteractive('df-12cc08e2-9014-426d-baa5-853308dbd7da')\"\n",
              "              title=\"Convert this dataframe to an interactive table.\"\n",
              "              style=\"display:none;\">\n",
              "        \n",
              "  <svg xmlns=\"http://www.w3.org/2000/svg\" height=\"24px\"viewBox=\"0 0 24 24\"\n",
              "       width=\"24px\">\n",
              "    <path d=\"M0 0h24v24H0V0z\" fill=\"none\"/>\n",
              "    <path d=\"M18.56 5.44l.94 2.06.94-2.06 2.06-.94-2.06-.94-.94-2.06-.94 2.06-2.06.94zm-11 1L8.5 8.5l.94-2.06 2.06-.94-2.06-.94L8.5 2.5l-.94 2.06-2.06.94zm10 10l.94 2.06.94-2.06 2.06-.94-2.06-.94-.94-2.06-.94 2.06-2.06.94z\"/><path d=\"M17.41 7.96l-1.37-1.37c-.4-.4-.92-.59-1.43-.59-.52 0-1.04.2-1.43.59L10.3 9.45l-7.72 7.72c-.78.78-.78 2.05 0 2.83L4 21.41c.39.39.9.59 1.41.59.51 0 1.02-.2 1.41-.59l7.78-7.78 2.81-2.81c.8-.78.8-2.07 0-2.86zM5.41 20L4 18.59l7.72-7.72 1.47 1.35L5.41 20z\"/>\n",
              "  </svg>\n",
              "      </button>\n",
              "      \n",
              "  <style>\n",
              "    .colab-df-container {\n",
              "      display:flex;\n",
              "      flex-wrap:wrap;\n",
              "      gap: 12px;\n",
              "    }\n",
              "\n",
              "    .colab-df-convert {\n",
              "      background-color: #E8F0FE;\n",
              "      border: none;\n",
              "      border-radius: 50%;\n",
              "      cursor: pointer;\n",
              "      display: none;\n",
              "      fill: #1967D2;\n",
              "      height: 32px;\n",
              "      padding: 0 0 0 0;\n",
              "      width: 32px;\n",
              "    }\n",
              "\n",
              "    .colab-df-convert:hover {\n",
              "      background-color: #E2EBFA;\n",
              "      box-shadow: 0px 1px 2px rgba(60, 64, 67, 0.3), 0px 1px 3px 1px rgba(60, 64, 67, 0.15);\n",
              "      fill: #174EA6;\n",
              "    }\n",
              "\n",
              "    [theme=dark] .colab-df-convert {\n",
              "      background-color: #3B4455;\n",
              "      fill: #D2E3FC;\n",
              "    }\n",
              "\n",
              "    [theme=dark] .colab-df-convert:hover {\n",
              "      background-color: #434B5C;\n",
              "      box-shadow: 0px 1px 3px 1px rgba(0, 0, 0, 0.15);\n",
              "      filter: drop-shadow(0px 1px 2px rgba(0, 0, 0, 0.3));\n",
              "      fill: #FFFFFF;\n",
              "    }\n",
              "  </style>\n",
              "\n",
              "      <script>\n",
              "        const buttonEl =\n",
              "          document.querySelector('#df-12cc08e2-9014-426d-baa5-853308dbd7da button.colab-df-convert');\n",
              "        buttonEl.style.display =\n",
              "          google.colab.kernel.accessAllowed ? 'block' : 'none';\n",
              "\n",
              "        async function convertToInteractive(key) {\n",
              "          const element = document.querySelector('#df-12cc08e2-9014-426d-baa5-853308dbd7da');\n",
              "          const dataTable =\n",
              "            await google.colab.kernel.invokeFunction('convertToInteractive',\n",
              "                                                     [key], {});\n",
              "          if (!dataTable) return;\n",
              "\n",
              "          const docLinkHtml = 'Like what you see? Visit the ' +\n",
              "            '<a target=\"_blank\" href=https://colab.research.google.com/notebooks/data_table.ipynb>data table notebook</a>'\n",
              "            + ' to learn more about interactive tables.';\n",
              "          element.innerHTML = '';\n",
              "          dataTable['output_type'] = 'display_data';\n",
              "          await google.colab.output.renderOutput(dataTable, element);\n",
              "          const docLink = document.createElement('div');\n",
              "          docLink.innerHTML = docLinkHtml;\n",
              "          element.appendChild(docLink);\n",
              "        }\n",
              "      </script>\n",
              "    </div>\n",
              "  </div>\n",
              "  "
            ]
          },
          "metadata": {},
          "execution_count": 8
        }
      ]
    },
    {
      "cell_type": "code",
      "source": [
        "#removing the date and place of report\n",
        "news_info[\"CONTENT\"] = news_info[\"CONTENT\"].str.split().str[3:].str.join(sep=\" \")\n",
        "print(news_info.head())"
      ],
      "metadata": {
        "colab": {
          "base_uri": "https://localhost:8080/"
        },
        "id": "oIbE_dtqKapY",
        "outputId": "46aa7ade-e807-4e57-eae5-7831631747c5"
      },
      "execution_count": 9,
      "outputs": [
        {
          "output_type": "stream",
          "name": "stdout",
          "text": [
            "                                               TITLE  \\\n",
            "0   Govt collects Rs 92.78 billion in fuel taxes ...   \n",
            "1   2nd fuel price hike in 8 days: Petrol Rs 180,...   \n",
            "2   Govt reducing airport infrastructure budget t...   \n",
            "3   Nepal imported gold worth Rs 35.77 billion in...   \n",
            "4   Food delivery services are booming in Kathman...   \n",
            "\n",
            "                                             CONTENT  \n",
            "0  as the fuel prices keep on increasing you migh...  \n",
            "1  the government-run fuel distribution monopoly ...  \n",
            "2  the governing is reducing its airport infrastr...  \n",
            "3  while there are reports that the country’s eco...  \n",
            "4  weeks back bintika kafle of kathmandu was home...  \n"
          ]
        }
      ]
    },
    {
      "cell_type": "markdown",
      "source": [
        "## Sentence Segmentation with spaCy"
      ],
      "metadata": {
        "id": "QvlES2SmWZ5x"
      }
    },
    {
      "cell_type": "code",
      "source": [
        "!python -m spacy download en_core_web_lg"
      ],
      "metadata": {
        "id": "5QwxgN9jLlJy"
      },
      "execution_count": null,
      "outputs": []
    },
    {
      "cell_type": "code",
      "source": [
        "import spacy\n",
        "from spacy import displacy\n",
        "nlp = spacy.load('en_core_web_sm')\n",
        "\n",
        "from spacy.matcher import Matcher \n",
        "from spacy.tokens import Span \n",
        "\n",
        "import networkx as nx\n",
        "\n",
        "#Segmenting the news content into sentences and placing them in the same list\n",
        "news = news_info[\"CONTENT\"]\n",
        "sentences = []\n",
        "for each_news in news:\n",
        "  indv_sentences = [i for i in nlp(each_news).sents]\n",
        "  sentences.extend(indv_sentences)\n",
        "print(sentences)"
      ],
      "metadata": {
        "colab": {
          "base_uri": "https://localhost:8080/"
        },
        "id": "H4aM2mAJX_RV",
        "outputId": "1c7f9bff-b159-4970-c7e0-3d5cc8b39c69"
      },
      "execution_count": 44,
      "outputs": [
        {
          "output_type": "stream",
          "name": "stdout",
          "text": [
            "[as the fuel prices keep on increasing you might have already understood that one of the reasons is the high fuel taxes levied by the government., apparently the fuel prices are quite high as the government collected rs 92.78 billion in the past 10 months., following the recent fuel price hike on sunday the nepal oil corporation the government-run fuel distribution monopoly has to pay rs 63.23 in taxes to the government for a litre of petrol., likewise the corporation has to pay in taxes rs 45.91 for a litre of diesel and rs 13.66 for a litre of kerosene., meanwhile the new fuel tax rate for a cylinder of cooking gas is rs 327.27., whereas the government is under the pressure from consumer rights activists and other stakeholders to reduce tax rates the ministry of finance is not ready yet according to an official., the government-run fuel distribution monopoly nepal oil corporation (noc) has increased fuel prices once again for the second time in the past eight days., of late the corporation has been increasing fuel prices every fortnight., whereas the last decision to hike the price was delayed by the local elections the corporation did not wait for a fortnight to make another decision this time., as per the statement made by the corporation on sunday evening the following changes have been made to the new price: despite the increase the corporation is at a loss in the trade of cooking gas petrol and diesel its statement claims., the governing is reducing its airport infrastructure development budget to a half in the new fiscal year that is beginning in mid-july., as the ambitious gautam buddha international airport has been completed and is already in operation the amount to be allocated next year will be around half the amount allocated this year., whereas the nijgadh airport project is in limbo and the government has not proposed any new airport the amount will be limited next year., a source at the civil aviation authority of nepal says the ministry of finance has told it to ask for a smaller amount this time and the authority has proposed accordingly., for this fiscal year the government had allocated rs 20 billion for construction work and repairing of domestic and international airport infrastructures., a big chunk of this is yet to be spent., for the next year the amount is expected to be around rs 10 billion which will be sufficient for pending tasks of the pokhara international airport and upgrading of the tribhuvan international airport., while there are reports that the country’s economy is in trouble due to increasing luxury imports the government data show the import of gold, also a luxury item rose excessively in the past 10 months., the department of customs says nepal imported gold worth rs 35.77 billion between the beginning of the current fiscal year (mid-july 2021) and mid-april 2022., the amount the country spent in this period is rs 14 billion more than the amount recorded in the same period last year., the country imported 4631 kg of the precious metal in the past 10 months., in the same period last year the volume of imports was rs 3003 kg worth, rs 21.2 billion., due to the 52.51 per cent increase in the volume of gold imported the country had to spend 68.68 per cent more amount than that of the period the previous yet., in turn the government earned 53.93 per cent more in revenues., weeks back bintika kafle of kathmandu was home alone., she was hungry and unwilling to cook., but thanks to technology it was just a click away to get anything delivered to your doorstep., kafle too decided to order her food online., so she chose pathao food an online app which offers food delivery services., kafle ordered chow mein and sausage to satisfy her appetite., however her hunger turned into anger as she had to wait for two more hours when it was supposed to be delivered in around 45 minutes., “when the food was delivered it was cold and tasted bland” says kafle., while kafle was hangry for some minutes it did not last long as she realised it happened to her a couple of times in the past also., but since that day she stopped sending orders to online food delivery services., as onlinekhabar randomly talks to customers of popular online food delivery services in kathmandu many share kafle’s problem., while the business is booming at an unprecedented pace customers say they need to focus on quality services including timely delivery., nikunj kayastha of bhaktapur has also gone through similar problems., he ordered pork curry from another food delivery service foodmandu., his food was supposed to be delivered in half an hour, but it took one and half hours more to reach his place., “i was very disappointed with the service the food came so late that i did not go to receive it” says kayastha., while the food delivery service is booming specifically around the capital city it has not been able to provide quality service., most of the customers are dissatisfied with their food delivery timing., meanwhile some of these unsatisfied customers are taking help from social media platforms for complaining about their services., “i’ve been ordering from @foodmandu ever since they started but i am reconsidering ever ordering from them., food often takes over an hour and a half to arrive sometimes two hours., and the food is usually cold” journalist pranaya rana tweets., “either add more riders or you’re going to lose more customers like me.”, rana’s tweet follows many other comments that show disappointment against food delivery services., “they lost me in my first order., food came three hours late than the ordered time., the lowest grade of food i ever ate…” reads the comment by ashis lamicchhane., likewise showing disappointment towards food delivery services, another user snoop hathi following the tweet by rana comments “was given an eta at 8., they called me at 15 past and said the earliest they could do is 9., that was it., app deleted.”, surakshya hamal the spokesperson at pathao food presents two main reasons behind the delay in service: firstly the weather factor and secondly the traffic congestion., “these days due to the monsoon and frequent rainfall many of the people prefer to order food to their place instead of going to restaurants” says hamal., “that makes the restaurants go through a lot of demand and as a result it takes a long time to prepare food.”, similarly in peak hours the road traffic condition also obstructs the riders to deliver the food timely she adds., another food delivery service bhoj deals also takes the road traffic as the main challenge to deliver food on time., “the major challenge that we face is the traffic which takes an hour for single order delivery., our motive is to provide quality service to the individual customer within half an hour” says santosh khadka the customer service head at bhoj deals., “but due to the heavy traffic the riders are stuck in and cannot meet the customer’s estimated time which might cause loss of food.”, on the other side riders get difficulties due to the weather especially in the monsoon during heavy rainfall riders even can ride the bike properly he adds., “sometimes restaurants also take takes maximum time for food preparation due to which orders get delayed.”, but the customers are not ready to accept such excuses., nikesh mishra of bhaktapur who avidly use food delivery services says “it’s acceptable that the road traffic and weather factor creates hassles for the food delivery services., but they should also start thinking about mechanisms that would overcome those challenges.”, he warns “otherwise they will lose their customers.”, gaurav bista of kathmandu also echoes mishra., he also wants the food delivery services to think about alternatives to overcome their existing challenges., onlinekhabar also tried to reach foodmandu several times but it did not respond., the government on tuesday hiked inter-province public bus fares owing to a recent increase in the prices of petroleum products., this is the second public bus fare hike in the past two months as the government had made a similar decision in april also., in the april decision the government had also said it would adjust the transport fares every time the fuel price changes by more than 5 per cent from now onwards., accordingly the department of transport management under the ministry of physical infrastructure and transport of the federal government made the announcement on tuesday., the decision comes into effect on wednesday., you can find the details of the hike here., the department says the fare of passenger vehicles has increased by 3.5 per cent whereas that of load-carrying vehicles has gone up by 4.6 per cent and 5.1 per cent respectively in hilly and plain regions., the end of the current fiscal year 2021/22 is just two months away but the government has yet to spend rs 222 billion in the capital expenditure that it has allocated for the current fiscal year., it means the government could not get rid of the problem of the low spending capacity also which would ultimately result in a lot of development and construction works in the final months of the fiscal year in haste., such a tendency is ultimately blamed for poor development works., the government had initially allocated rs 378.09 billion in capital expenditure for the current fiscal year (mid-july 2021 to mid-july 2022)., however it was scaled down to rs 340.32 billion in the budget revision., yet in 10 months of the year the government has been able to spend only rs 118.26 billion of the amount, informs the financial comptroller general office., this is 31.28 per cent of the remised spending target., now the government can meet the target only when it spends rs 3.6 billion every day., the government-run fuel distribution monopoly nepal oil corporation (noc) has increased the prices of petroleum products once again., of late the corporation has been increasing fuel prices every fortnight., the increase this time was delayed due to the local elections., as per the statement made by the corporation on saturday evening the following changes have been made to the new price: the last increase in the prices of fuel was in april 2022., an noc board meeting held on saturday evening made the decision and it will come into effect from tonight according to noc spokesperson binit mani upadhyay., despite the increase the corporation is in a loss in the trade of petrol and diesel its statement claims., there is a huge loss in the sale of cooking gas too although it has not gone dearer now., buddha air a leading airline company in the country will be flying to six airports around nepal at nighttime also beginning this saturday., this comes after the civil aviation association of nepal decided to open some airports for 18 hours a day., taking advantage of the new provision buddha air will fly its aircraft to janakpur nepalgunj bhairahawa biratnagar bhadrapur and simara during nighttime., night flights will start at 8 pm and end at midnight., caan says night flights will make up 13 per cent of the total domestic flights after its decision to open domestic airports for 18 hours., buddha air believes that its night service will save people a lot of time., in its press release it states that night flights will be smoother than afternoon flights with fewer delays., it also says that the price will also be cheaper than afternoon flights., to make things easier for passengers buddha air has requested the provincial and local governments to run public transportation from the airports at night., the company believes this will generate employment opportunities in the area., in kathmandu buddha air is collaborating with ride-sharing application tootle which is offering special discounts to those who travel using its flights., nepal’s balance of payment is the lowest it has ever been., even though remittance has improved in the last few months due to the continuous rise in imports, the balance of payment has taken a significant hit informs nepal rastra bank., this has affected the country’s foreign exchange reserve which has gone down by rs 2 billion over the past month., according to the central bank the country’s balance of payment in the past nine months of the ongoing fiscal year is minus rs 268 billion., this is the lowest it has been in the history of the country., this time last year nepal’s balance of payment was positive rs 42 billion., in the first nine months of the current fiscal year nepal’s current account is at a loss of rs 512 billion which is over rs 300 billion more than what it was last year., the current account is mostly used for trade purposes., despite the government putting a restriction on the import of certain items nepal’s foreign exchange reserve continues to take a hit., between march 14 and april 14 nepal’s foreign exchange reserve went down by rs 2.08 billion., according to nepal rastra bank the country’s foreign exchange reserve which was rs 1.170 trillion in february has gone down to rs 1.168 trillion in the past month., even though the central bank says things are getting better due to global inflation nepal’s foreign exchange reserve is taking a hit concerning economists in the country., during the first nine months of the current fiscal year (mid-july 2021-mid-april 2022) nepal’s total import bill stood at rs1466.66 billion with a rise of 31.97 per cent year-on-year., the available reserves are sufficient to sustain imports of goods and services for just 7.4 months., although the government says it has imposed a restriction on luxury imports until mid-july 2022 the end of the current fiscal year, only officials say it is highly likely that the government will extend the restriction., moreover the new budget plan for the next fiscal year will embrace the restriction on luxury imports as a policy priority according to the officials., currently the ministry of finance is preparing the budget plan that it has to table in the house of representatives on may 29 as per the constitutional provision., officials say the government will also restrict agricultural products to push domestic producers for more yields., “whereas some goods will be banned for the import some will be taxable at a high rate” an official involved in the planning says., the government is also preparing to restrict the import of petroleum products as they have been one of the biggest imports of the country., sastodeal a leading online shopping store in nepal has partnered with the swiss agency for development and cooperation (sdc) and the un capital development fund (uncdf) to help 3500 micro small and medium enterprises (msmes) in nepal., the company says the support will digitise the operations of these msmes at least 60 per cent of whom are women-owned., sastodeal will help msmes digitise payments delivery and post-sales services in rural areas in nepal boosting their sales and helping them recover from the effects of the pandemic., thanks to combined funding of usd 100000 from the sdc and uncdf the e-commerce company will receive performance-based grants and technical assistance to provide access to digital marketplaces for last-mile msmes., working with msmes across all seven provinces of nepal the online store will help bridge the digital divide between large businesses and msmes it says., the local elections scheduled to be held later this week have resulted in excessive fuel overconsumption in nepal., as the country’s government-run fuel distribution monopoly nepal oil corporation (noc) has been reporting huge losses in the fuel trade the overconsumption is certain to increase the amounts of losses too., the corporation says it has been selling petrol and diesel, worth rs 2.75 billion every day these days., on normal days the corporation sells around 2000 kilolitres of petrol and around 6000 kilolitres of diesel., now the required volumes have reached around 10000 and 11000 kilolitres respectively the corporation’s spokesperson binit mani upadhyaya says., the corporation has also reported an increase in the consumption of aviation fuel also as airlines have been scheduling additional flights to meet the need for additional travel in the run-up to the elections., the corporation had earlier estimated it would incur a loss of rs 10.18 billion this month but the fuel overconsumption might result in a sharp rise according to upadhyaya., it has been 12 days since contractors have stopped working on development projects commissioned by the government., contractors citing a hike in the price of construction materials have stopped working on over 3500 projects across the country., this is quite worrisome as development work has completely stopped during the major season when these things should have moved forward at a rapid rate., while this is happening the government has done nothing as all development works are in a state of coma., the effects of this are being seen in the country’s economy too as it is facing a liquidity crisis with the capital expenditure not happening as much as it should have., according to financial comptroller general office the country after april 24 has only spent rs 5.59 billion of the allotted capital expenditure taking its total to rs 107 billion., the government had planned to spend rs 378 billion as capital expenditure., this is only 30 per cent of what it wants to spend as the government officials fear that the government will not be able to spend even 50 per cent of the money set aside as capital expenditure., the reason for halting the project is the price hike., federation of contractors’ associations of nepal‘s president rabi singh says the contractors will not restart projects until the government addresses the hike in prices of materials., “we need the government to address this issue because we can’t work and incur losses” says singh., “we’ll only start work when the government will help us and pay us accordingly.”, contractors say they have put their demands in front of ministers., urban development minister ram kumari jhakri has said she knows about the issue adding their demands are being taken seriously., the office of the company registrar has closed the services except for the essential ones from today., the office states services other than the highly essential ones have been suspended from today citing a majority of the office employees have been deployed on election duty for the may 13 local elections., it says the services will resume after the elections are over., deputy registrar achyut dhungana says works other than very essential ones like the registration of companies company administration and those related to archiving have been suspended from today., the office of the company registrar has regretted any inconvenience to the service recipients caused due to this., the russian invasion of ukraine has affected nepal, ’s exports to europe and the americas complain the traders., it has already been two months since the orders from european and asian countries have been affected as they have been hit hard by the war informs durga bikram, thapa a vice-president of the federation of export entrepreneurs nepal., naresh lal shrestha the first vice-president of the export council of nepal says the export industries that were severely troubled by the covid pandemic are receiving another blow., shrestha says the export has been affected by 25 to 50 per cent by the crisis., “our european purchasers are worried about how long the war will continue.”, nepal exports garments, pashmina felt handicrafts and woodcrafts worth rs 50 billion every year according to traders., the united states government has extended support of rs 79.91 billion to nepal as a grant to help it become a mid-income country., an agreement has been signed between the two sides in this regard in kathmandu on thursday., usaid nepal director sepideh keyvanshad and nepal’s finance ministry‘s international financial aid coordination division chief ishwari prasad aryal signed the agreement., the ministry says the money will be invested in education health sustainable energy and agriculture sectors in a transparent way., the central bureau of statistics (cbs) has projected better economic growth in bagmati and gandaki provinces than the national average as well as the other provinces., the other five provinces however are projected to have lower growth rates than the national average., just recently the bureau has projected that the national economy would achieve a growth rate of 5.84 per cent this fiscal year ending mid-july 2022., the bureau also published its projection of the economic growth rates in all seven provinces on thursday., the projected rates are given below:, nepal airlines corporation (nac) is planning to purchase five new aircraft in 2022., this comes as a shock to many as nac which has debt in excess of rs 47 billion has not been paying its due instalments of the aircraft it purchased over the past decade., it has been six months since the new executive board took office., on this occasion the board had submitted a proposal to buy five brand-new aircraft within the next six months., the corporation has not made public how it is going to manage funds to buy the new aircraft., according to nac’s, spokesperson archana khadka the corporation is looking for around rs 6.58 billion to purchase five new aircraft., she says the corporation wants new aircraft so that the corporation can provide services to remote areas of nepal., “we want to buy three aircraft worth rs 860 million each to fly to remote areas” says khadka., she says the corporation is also planning to buy two new aircraft to fly to developed areas of the country., these aircraft would cost nac rs 2 billion each and is part of nac’s 10-year business plan., the plan states that after the purchase of new aircraft meant for domestic flights the corporation will restart flights to lukla pokhara jomsom and bhairawaha., further it wants to purchase a further four aircraft to fly domestically and two narrow-body aircraft to fly internationally in 2023., the business plan also states that the corporation wants to buy one widebody and two narrowbody aircraft and expands its fleet for international flights in 2024., khadka says the corporation wants to buy a widebody aircraft in 2025 as well., “we want to give services to seoul (south korea) shangai and guangzhou, (china) colombo (sri lanka), ahmedabad (india), indonesia frankfurt (germany) and australia” says khadka., the corporation in the past had said it needed the government’s help to restart six grounded aircraft that needed maintenance., but since the government has not batted an eye the six chinese aircraft are in a sorry state.]\n"
          ]
        }
      ]
    },
    {
      "cell_type": "markdown",
      "source": [
        "The ideal case is one subject and one object but due to complex sentences in Online Khabar, it is diffult to obtain that."
      ],
      "metadata": {
        "id": "AnYJ9ph5ex8S"
      }
    },
    {
      "cell_type": "code",
      "source": [
        "# Checking the syntatic structure and parts of speech in the sentence\n",
        "doc = nlp(\"apparently the fuel prices are quite high as the government collected rs 92.78 billion in the past 10 months\")\n",
        "\n",
        "for tok in doc:\n",
        "  print(tok.text, \"-->\", tok.dep_, \"-->\", tok.pos_)"
      ],
      "metadata": {
        "colab": {
          "base_uri": "https://localhost:8080/"
        },
        "id": "J0Wifz4GYLlM",
        "outputId": "f104ed14-bfc1-455d-94cc-dff8d0e8c59d"
      },
      "execution_count": 42,
      "outputs": [
        {
          "output_type": "stream",
          "name": "stdout",
          "text": [
            "apparently --> advmod --> ADV\n",
            "the --> det --> DET\n",
            "fuel --> compound --> NOUN\n",
            "prices --> nsubj --> NOUN\n",
            "are --> ROOT --> AUX\n",
            "quite --> advmod --> ADV\n",
            "high --> acomp --> ADJ\n",
            "as --> mark --> SCONJ\n",
            "the --> det --> DET\n",
            "government --> nsubj --> NOUN\n",
            "collected --> advcl --> VERB\n",
            "rs --> quantmod --> NOUN\n",
            "92.78 --> compound --> NUM\n",
            "billion --> dobj --> NUM\n",
            "in --> prep --> ADP\n",
            "the --> det --> DET\n",
            "past --> amod --> ADJ\n",
            "10 --> nummod --> NUM\n",
            "months --> pobj --> NOUN\n"
          ]
        }
      ]
    },
    {
      "cell_type": "markdown",
      "source": [
        "## Entity Pair Extraction"
      ],
      "metadata": {
        "id": "3KoUQBx3BA6w"
      }
    },
    {
      "cell_type": "code",
      "source": [
        "# getting the entities\n",
        "def get_entities(entry):\n",
        "  ent1 = \"\"\n",
        "  ent2 = \"\"\n",
        "\n",
        "  prev_tok_dep = \"\"     # dependency tag of previous token in the sentence\n",
        "  prev_tok_text = \"\"    # previous token in the sentence\n",
        "\n",
        "  # holds the text associated with the subject or the object\n",
        "  prefix = \"\"\n",
        "  modifier = \"\"\n",
        "\n",
        "\n",
        "  for tok in nlp(entry):\n",
        "    # if token is punctuation, move on to the next token\n",
        "    if tok.dep_ != \"punct\":\n",
        "      # checking if the token is a compound word\n",
        "      if tok.dep_ == \"compound\":\n",
        "        prefix = tok.text\n",
        "        # if the previous word was also a compound, then adding the current word to it\n",
        "        if prev_tok_dep == \"compound\":\n",
        "          prefix = prev_tok_text + \" \"+ tok.text\n",
        "\n",
        "      # checking if the token is a modifier\n",
        "      if tok.dep_.endswith(\"mod\") == True:\n",
        "        modifier = tok.text\n",
        "        # if the previous word was also a compound, then adding the current word to it\n",
        "        if prev_tok_dep == \"compound\":\n",
        "          modifier = prev_tok_text + \" \"+ tok.text\n",
        "\n",
        "      # capturing the token as first entity if it is a subject\n",
        "      if tok.dep_.find(\"subj\") == True:\n",
        "        ent1 = modifier +\" \"+ prefix + \" \"+ tok.text\n",
        "        # resetting the variables\n",
        "        prefix = \"\"\n",
        "        modifier = \"\"\n",
        "        prev_tok_dep = \"\"\n",
        "        prev_tok_text = \"\"\n",
        "\n",
        "      # capturing the token as second entity if it is an object\n",
        "      if tok.dep_.find(\"obj\") == True:\n",
        "        ent2 = modifier +\" \"+ prefix + \" \"+ tok.text\n",
        "        # resetting the variables\n",
        "        prefix = \"\"\n",
        "        modifier = \"\"\n",
        "        prev_tok_dep = \"\"\n",
        "        prev_tok_text = \"\"\n",
        "\n",
        "      # updating previous tokens and dependencies\n",
        "      prev_tok_dep = tok.dep_\n",
        "      prev_tok_text = tok.text\n",
        "\n",
        "  # returning the entities\n",
        "  return [ent1.strip(), ent2.strip()]"
      ],
      "metadata": {
        "id": "LXXW_ExAeMzU"
      },
      "execution_count": 20,
      "outputs": []
    },
    {
      "cell_type": "code",
      "source": [
        "# testing the get_entities function\n",
        "get_entities(\"the decision comes into effect on wednesday\")   #using a simple sentence for better functionality"
      ],
      "metadata": {
        "colab": {
          "base_uri": "https://localhost:8080/"
        },
        "id": "XmH41CAIGa_n",
        "outputId": "3fb45696-d2a6-41a8-ec0b-ad2cec664526"
      },
      "execution_count": 23,
      "outputs": [
        {
          "output_type": "execute_result",
          "data": {
            "text/plain": [
              "['decision', 'wednesday']"
            ]
          },
          "metadata": {},
          "execution_count": 23
        }
      ]
    },
    {
      "cell_type": "code",
      "source": [
        "# type conversion\n",
        "print(type(sentences[0]))\n",
        "print(type(sentences[0].text))\n",
        "get_entities(sentences[0].text)"
      ],
      "metadata": {
        "colab": {
          "base_uri": "https://localhost:8080/"
        },
        "id": "kBoODczUHm_T",
        "outputId": "9f3dde14-7965-439b-ee88-a95b6bfff921"
      },
      "execution_count": 37,
      "outputs": [
        {
          "output_type": "stream",
          "name": "stdout",
          "text": [
            "<class 'spacy.tokens.span.Span'>\n",
            "<class 'str'>\n"
          ]
        },
        {
          "output_type": "execute_result",
          "data": {
            "text/plain": [
              "['already  one', 'high fuel government']"
            ]
          },
          "metadata": {},
          "execution_count": 37
        }
      ]
    },
    {
      "cell_type": "code",
      "source": [
        "#Extracting entity pairs for all the sentences\n",
        "entity_pairs = []\n",
        "\n",
        "for each_sentence in sentences:\n",
        "  entity_pairs.append(get_entities(each_sentence.text))\n",
        "\n",
        "print(entity_pairs)"
      ],
      "metadata": {
        "colab": {
          "base_uri": "https://localhost:8080/"
        },
        "id": "8gm2PX8AHuNu",
        "outputId": "9a80bba9-5764-4db0-d00c-c4b536ca25c7"
      },
      "execution_count": 40,
      "outputs": [
        {
          "output_type": "stream",
          "name": "stdout",
          "text": [
            "[['already  one', 'high fuel government'], ['quite  government', '10  months'], ['run fuel distribution monopoly', 'petrol'], ['likewise  corporation', 'kerosene'], ['new fuel tax rate', 'cooking  gas'], ['ministry', 'yet  official'], ['run nepal oil corporation', 'eight  days'], ['late  corporation', 'fuel prices'], ['fortnight', 'decision'], ['statement', 'gas petrol'], ['that', 'july'], ['amount', 'already  operation'], ['amount', 'new  airport'], ['time  authority', 'smaller  amount'], ['government', 'domestic airport infrastructures'], ['big  chunk', 'this'], ['10 billion 10 which', 'tribhuvan international tribhuvan airport'], ['government data', 'gold'], ['also luxury item', '10  months'], ['nepal', 'fiscal  year'], ['country', 'same  period'], ['country', '10  months'], ['year  volume', 'imports'], ['', ''], ['', 'period'], ['government', 'revenues'], ['back bintika kafle', 'kathmandu'], ['she', ''], ['it', 'doorstep'], ['kafle', 'too  food'], ['which', 'food delivery services'], ['kafle', 'appetite'], ['when  it', '45  minutes'], ['bland  kafle', ''], ['it', 'past'], ['she', 'online food delivery services'], ['', 'kathmandu'], ['they', 'timely  delivery'], ['nikunj  kayastha', 'similar  problems'], ['he', 'delivery service foodmandu'], ['food', 'hour'], ['it', 'more  place'], ['kayastha', 'it'], ['it', 'quality service'], ['most', 'food delivery timing'], ['meanwhile  some', 'services'], ['i', 'ever  them'], ['food', 'two  hours'], ['food', ''], ['you', 'me'], ['that', 'food delivery services'], ['they', 'first  order'], ['food', 'ordered  time'], ['i', 'ashis lamicchhane'], ['', 'food delivery services'], ['user snoop hathi', '8'], ['they', '15  past'], ['that', ''], ['app', ''], ['spokesperson', 'service'], ['hamal', 'instead  restaurants'], ['it', 'food'], ['timely  she', 'food'], ['service bhoj deals', 'time'], ['which', 'single order delivery'], ['santosh khadka', 'bhoj deals'], ['time  which', 'food'], ['properly  he', 'even  bike'], ['orders', 'which'], ['customers', 'such  excuses'], ['traffic weather factor', 'food delivery services'], ['that', 'challenges'], ['otherwise  they', 'customers'], ['gaurav bista', 'also  mishra'], ['also food delivery services', 'existing  challenges'], ['times  it', 'also  foodmandu'], ['government', 'petroleum products'], ['government', 'april'], ['also  it', 'cent'], ['accordingly  department', 'tuesday'], ['decision', 'wednesday'], ['you', 'hike'], ['that', 'hilly  regions'], ['it', 'fiscal  year'], ['also  which', 'haste'], ['tendency', 'poor development works'], ['government', '2021  july'], ['however  it', 'budget revision'], ['government', 'amount'], ['', 'financial comptroller general office'], ['this', 'remised spending target'], ['when  it', '3.6 billion'], ['run nepal oil corporation', 'petroleum products'], ['late  corporation', 'fuel prices'], ['increase', 'local  elections'], ['last  increase', 'april'], ['it', 'binit mani upadhyay'], ['statement', 'petrol'], ['too  it', 'gas'], ['buddha air', 'nighttime'], ['civil aviation association', '18  hours'], ['taking', 'nighttime'], ['night flights', 'midnight'], ['night flights', '18  hours'], ['night service', 'time'], ['night flights', 'fewer  delays'], ['also  price', 'also afternoon flights'], ['things', 'night'], ['this', 'area'], ['who', 'flights'], ['it', 'payment'], ['even  remittance', 'imports'], ['balance', 'hit nepal rastra bank'], ['foreign exchange which', 'past 2 month'], ['country', 'fiscal  year'], ['it', 'country'], ['balance', 'payment'], ['it', '300 billion 300 more'], ['current  account', 'mostly trade purposes'], ['foreign exchange reserve', 'hit'], ['foreign exchange reserve', 'rs'], ['which', 'past  month'], ['foreign exchange reserve', 'country'], ['total import bill', 'year'], ['available  reserves', '7.4  months'], ['it', 'fiscal  year'], ['highly  government', 'restriction'], ['new budget plan', 'officials'], ['it', 'constitutional  provision'], ['government', 'more  yields'], ['official', 'planning'], ['they', 'country'], ['sastodeal', 'nepal'], ['support', 'whom'], ['them', 'pandemic'], ['thanks', 'last mile msmes'], ['it', 'large  businesses'], ['local  elections', 'nepal'], ['overconsumption', 'losses'], ['it', 'petrol'], ['', ''], ['corporation', '6000  diesel'], ['binit mani upadhyaya', 'respectively  corporation'], ['also  airlines', 'elections'], ['month fuel overconsumption', 'upadhyaya'], ['12  contractors', 'government'], ['contractors', 'country'], ['when  things', 'rapid  rate'], ['development works', 'coma'], ['much  it', 'capital expenditure'], ['', '107 billion'], ['government', 'capital expenditure'], ['government', 'aside capital expenditure'], ['reason', 'project'], ['government', 'materials'], ['incur singh', 'issue'], ['when  government', 'us'], ['they', 'ministers'], ['demands', 'issue'], ['office', 'today'], ['majority', 'local  elections'], ['elections', ''], ['works', 'related  today'], ['office', 'this'], ['russian  invasion', 'nepal'], ['exports', 'traders'], ['they', 'hard informs durga bikram'], ['', 'export entrepreneurs nepal'], ['that', 'blow'], ['export', 'crisis'], ['long  war', ''], ['', ''], ['pashmina', 'year 50 traders'], ['it', 'grant'], ['agreement', 'thursday'], ['director sepideh keyvanshad', 'prasad aid coordination agreement'], ['money', 'transparent  way'], ['central bureau', 'national  average'], ['five  provinces', 'national  average'], ['national  economy', 'july'], ['bureau', 'thursday'], ['projected  rates', ''], ['nepal airlines corporation', '2022'], ['it', 'past  decade'], ['new executive board', 'office'], ['board', 'six  months'], ['how  it', 'new  aircraft'], ['', 'nac'], ['spokesperson archana corporation', 'new  aircraft'], ['corporation', 'nepal'], ['khadka', 'remote  areas'], ['corporation', 'country'], ['aircraft', '10-year business plan'], ['corporation', 'pokhara jomsom'], ['further  it', 'internationally body 2023'], ['also  corporation', '2024'], ['corporation', '2025'], ['we', 'seoul south shangai'], ['', ''], ['', ''], ['indonesia frankfurt', 'khadka'], ['that', 'maintenance'], ['chinese  aircraft', 'sorry  state']]\n"
          ]
        }
      ]
    },
    {
      "cell_type": "markdown",
      "source": [
        "## Relation/Predicate Extraction using spaCy's Rule-based Matching\n",
        "\n",
        "Assuming relation/predicate as the main verb in the sentence"
      ],
      "metadata": {
        "id": "rIZ6Lz7JJoj7"
      }
    },
    {
      "cell_type": "code",
      "source": [
        "# getting relations from sentences\n",
        "def get_relation(entry):\n",
        "\n",
        "  # creating a spaCy object\n",
        "  doc = nlp(entry)\n",
        "\n",
        "  # creating a matcher class object \n",
        "  matcher = Matcher(nlp.vocab)\n",
        "\n",
        "  # defining the pattern \n",
        "  pattern = [{'DEP':'ROOT'},            # finds root word in the sentence\n",
        "            {'DEP':'prep','OP':\"?\"},    # checks if it is followed by preposition\n",
        "            {'DEP':'agent','OP':\"?\"},   # checks if it is followed by agent\n",
        "            {'POS':'ADJ','OP':\"?\"}]     # checks adjective part of speech \n",
        "\n",
        "  # adding rule to the matcher\n",
        "  matcher.add(\"match_1\", None, pattern)\n",
        "\n",
        "  matches = matcher(doc)\n",
        "  k = len(matches) - 1\n",
        "  span = doc[matches[k][1]:matches[k][2]] \n",
        "\n",
        "  return (span.text)"
      ],
      "metadata": {
        "id": "3yf7tNCpIA9k"
      },
      "execution_count": 49,
      "outputs": []
    },
    {
      "cell_type": "code",
      "source": [
        "# testing get_relation function\n",
        "get_relation(\"the decision comes into effect on wednesday\")"
      ],
      "metadata": {
        "colab": {
          "base_uri": "https://localhost:8080/",
          "height": 35
        },
        "id": "EVI3vysWSJ3X",
        "outputId": "37f1e5f5-b8e1-4734-cedb-9e92272ac48b"
      },
      "execution_count": 50,
      "outputs": [
        {
          "output_type": "execute_result",
          "data": {
            "text/plain": [
              "'comes into'"
            ],
            "application/vnd.google.colaboratory.intrinsic+json": {
              "type": "string"
            }
          },
          "metadata": {},
          "execution_count": 50
        }
      ]
    },
    {
      "cell_type": "code",
      "source": [
        "# getting relations from all the sentences\n",
        "relations = []\n",
        "\n",
        "for each_sentence in sentences:\n",
        "  relations.append(get_relation(each_sentence.text))\n",
        "\n",
        "print(relations)"
      ],
      "metadata": {
        "colab": {
          "base_uri": "https://localhost:8080/"
        },
        "id": "NTT6Awz7S5mv",
        "outputId": "f52a90a4-d041-465b-aa89-2b9d8b4bab17"
      },
      "execution_count": 53,
      "outputs": [
        {
          "output_type": "stream",
          "name": "stdout",
          "text": [
            "['understood', 'are', 'has', 'has', 'is', 'is under', 'increased', 'increasing', 'delayed by', 'is at', 'reducing', 'completed', 'is in', 'says', 'allocated', 'is', 'expected', 'are', 'rose', 'says', 'is', 'imported', 'was', 'billion', 'had', 'earned', 'was', 'was hungry', 'was', 'decided', 'chose', 'ordered', 'turned into', 'says', 'was', 'stopped', 'talks to', 'booming at', 'gone through similar', 'ordered', 'supposed', 'took', 'says', 'booming', 'dissatisfied with', 'taking', 'ordering from', 'takes', 'is', 'add more', 'follows many', 'lost', 'came', 'reads', 'showing', 'given', 'called', 'was', 'deleted', 'hamal', 'says', 'makes', 'adds', 'takes', 'is', 'says', 'stuck', 'adds', 'take', 'are', 'says', 'start', 'warns', 'echoes', 'wants', 'tried', 'hiked inter', 'is', 'said', 'made', 'comes into', 'find', 'says', 'is', 'means', 'blamed for poor', 'allocated', 'scaled', 'yet in', 'informs', 'is', 'meet', 'increased', 'increasing', 'delayed due', 'was in', 'made', 'is in', 'is', 'flying to', 'comes', 'fly', 'start at', 'says', 'believes', 'states', 'says', 'requested', 'believes', 'collaborating with', 'is', 'improved in', 'taken', 'affected', 'is minus', 'is', 'was positive', 'is at', 'used for', 'continues', 'went', 'gone', 'says', 'stood at', 'are sufficient', 'says', 'say', 'embrace', 'preparing', 'say', 'says', 'preparing', 'partnered with', 'says', 'help', 'receive', 'says', 'resulted in excessive', 'is certain', 'says', 'worth', 'sells', 'says', 'reported', 'estimated', 'been', 'stopped', 'is', 'done', 'seen in', 'spent', 'planned', 'is', 'is', 'says', 'says', 'start', 'say', 'said', 'closed', 'suspended from', 'says', 'says', 'regretted', 'affected', 'complain', 'been', 'thapa', 'says', 'says', 'are worried', 'garments', 'felt', 'extended', 'signed between', 'signed', 'says', 'projected better', 'projected', 'projected', 'published', 'given', 'planning', 'comes as', 'been', 'submitted', 'made public', 'according to', 'khadka', 'says', 'says', 'says', 'cost', 'states', 'wants', 'states', 'says', 'want', 'colombo', 'india', 'says', 'said', 'are in']\n"
          ]
        }
      ]
    },
    {
      "cell_type": "code",
      "source": [
        "# looking at the most frequent relations\n",
        "pd.Series(relations).value_counts()[:20]"
      ],
      "metadata": {
        "colab": {
          "base_uri": "https://localhost:8080/"
        },
        "id": "qnVAU0BsTM8H",
        "outputId": "5bc0451a-4237-4a78-8587-72926e56e0f3"
      },
      "execution_count": 56,
      "outputs": [
        {
          "output_type": "execute_result",
          "data": {
            "text/plain": [
              "says         29\n",
              "is           14\n",
              "was           5\n",
              "states        3\n",
              "say           3\n",
              "said          3\n",
              "are           3\n",
              "been          3\n",
              "takes         2\n",
              "start         2\n",
              "preparing     2\n",
              "adds          2\n",
              "made          2\n",
              "given         2\n",
              "stopped       2\n",
              "ordered       2\n",
              "wants         2\n",
              "projected     2\n",
              "is at         2\n",
              "has           2\n",
              "dtype: int64"
            ]
          },
          "metadata": {},
          "execution_count": 56
        }
      ]
    },
    {
      "cell_type": "code",
      "source": [
        ""
      ],
      "metadata": {
        "id": "D32t3uF8Txp1"
      },
      "execution_count": null,
      "outputs": []
    }
  ]
}